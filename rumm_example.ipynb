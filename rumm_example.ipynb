{
  "nbformat": 4,
  "nbformat_minor": 0,
  "metadata": {
    "colab": {
      "name": "rumm_example.ipynb",
      "version": "0.3.2",
      "provenance": [],
      "collapsed_sections": [],
      "include_colab_link": true
    },
    "kernelspec": {
      "name": "python3",
      "display_name": "Python 3"
    },
    "accelerator": "GPU"
  },
  "cells": [
    {
      "cell_type": "markdown",
      "metadata": {
        "id": "view-in-github",
        "colab_type": "text"
      },
      "source": [
        "<a href=\"https://colab.research.google.com/github/choderalab/rumm/blob/master/rumm_example.ipynb\" target=\"_parent\"><img src=\"https://colab.research.google.com/assets/colab-badge.svg\" alt=\"Open In Colab\"/></a>"
      ]
    },
    {
      "metadata": {
        "id": "ogFBI2VylOD3",
        "colab_type": "text"
      },
      "cell_type": "markdown",
      "source": [
        "## Preparation"
      ]
    },
    {
      "metadata": {
        "id": "UTRq9G5nlRSt",
        "colab_type": "text"
      },
      "cell_type": "markdown",
      "source": [
        "### clone the repo"
      ]
    },
    {
      "metadata": {
        "id": "p3ZoL06kjkk5",
        "colab_type": "code",
        "outputId": "76301a6f-8e88-462d-c32f-390c8db03bcb",
        "colab": {
          "base_uri": "https://localhost:8080/",
          "height": 227
        }
      },
      "cell_type": "code",
      "source": [
        "! rm -rf *\n",
        "! git clone https://github.com/choderalab/rumm.git"
      ],
      "execution_count": 1,
      "outputs": [
        {
          "output_type": "stream",
          "text": [
            "Cloning into 'rumm'...\n",
            "remote: Enumerating objects: 88, done.\u001b[K\n",
            "remote: Counting objects: 100% (88/88), done.\u001b[K\n",
            "remote: Compressing objects: 100% (57/57), done.\u001b[K\n",
            "remote: Total 88 (delta 46), reused 59 (delta 26), pack-reused 0\u001b[K\n",
            "Unpacking objects: 100% (88/88), done.\n"
          ],
          "name": "stdout"
        }
      ]
    },
    {
      "metadata": {
        "id": "QAqSY-DKlUqm",
        "colab_type": "text"
      },
      "cell_type": "markdown",
      "source": [
        "### imports"
      ]
    },
    {
      "metadata": {
        "id": "1p3nPMAkjrH4",
        "colab_type": "code",
        "colab": {}
      },
      "cell_type": "code",
      "source": [
        "# imports\n",
        "import tensorflow as tf\n",
        "try:\n",
        "    tf.enable_eager_execution()\n",
        "except:\n",
        "    pass\n",
        "import numpy as np\n",
        "import pandas as pd\n",
        "import sys\n",
        "sys.path.append('rumm/rumm')\n",
        "import lang\n",
        "import nets\n",
        "import box\n"
      ],
      "execution_count": 0,
      "outputs": []
    },
    {
      "metadata": {
        "id": "b_Dvp3wplIkX",
        "colab_type": "text"
      },
      "cell_type": "markdown",
      "source": [
        "### get the dataset from MoleculeNet"
      ]
    },
    {
      "metadata": {
        "id": "JKHHdNPfkAZ7",
        "colab_type": "code",
        "outputId": "28b2d4d4-6a88-4ad5-b2f0-92d31804c0f1",
        "colab": {
          "base_uri": "https://localhost:8080/",
          "height": 349
        }
      },
      "cell_type": "code",
      "source": [
        "! wget https://s3-us-west-1.amazonaws.com/deepchem.io/datasets/molnet_publish/ESOL.zip\n",
        "! unzip ESOL.zip"
      ],
      "execution_count": 3,
      "outputs": [
        {
          "output_type": "stream",
          "text": [
            "--2018-12-08 23:16:54--  https://s3-us-west-1.amazonaws.com/deepchem.io/datasets/molnet_publish/ESOL.zip\n",
            "Resolving s3-us-west-1.amazonaws.com (s3-us-west-1.amazonaws.com)... 52.219.24.161\n",
            "Connecting to s3-us-west-1.amazonaws.com (s3-us-west-1.amazonaws.com)|52.219.24.161|:443... connected.\n",
            "HTTP request sent, awaiting response... 200 OK\n",
            "Length: 32317 (32K) [application/zip]\n",
            "Saving to: ‘ESOL.zip’\n",
            "\n",
            "\rESOL.zip              0%[                    ]       0  --.-KB/s               \rESOL.zip            100%[===================>]  31.56K  --.-KB/s    in 0.1s    \n",
            "\n",
            "2018-12-08 23:16:55 (233 KB/s) - ‘ESOL.zip’ saved [32317/32317]\n",
            "\n",
            "Archive:  ESOL.zip\n",
            "  inflating: delaney-processed.csv   \n",
            "  inflating: ESOL_README             \n"
          ],
          "name": "stdout"
        }
      ]
    },
    {
      "metadata": {
        "id": "yqn0YB_LlZXk",
        "colab_type": "text"
      },
      "cell_type": "markdown",
      "source": [
        "### load datasets"
      ]
    },
    {
      "metadata": {
        "id": "x4UX6dRgkkNl",
        "colab_type": "code",
        "colab": {}
      },
      "cell_type": "code",
      "source": [
        "df = pd.read_csv('delaney-processed.csv')\n",
        "n_samples = df.shape[0]\n",
        "df_sampled = df.sample(n_samples)\n",
        "\n",
        "# use 80-20 split for training and test data\n",
        "n_training = int(n_samples * 0.8)\n",
        "y_tr = np.array(df_sampled.values[:n_training, 1], dtype=np.float32)\n",
        "x_tr = df_sampled.values[:n_training, -1]\n",
        "y_te = np.array(df_sampled.values[n_training:, 1], dtype=np.float32)\n",
        "x_te = df_sampled.values[n_training:, -1]\n",
        "\n",
        "lang_obj = lang.Lang(x_tr)\n",
        "vocab_size = len(lang_obj.idx2ch)\n",
        "x_tensor = lang.preprocessing(x_tr, lang_obj)\n",
        "y_tensor = tf.convert_to_tensor(np.transpose([y_tr.flatten()]))"
      ],
      "execution_count": 0,
      "outputs": []
    },
    {
      "metadata": {
        "id": "9bKv5a_N9mKg",
        "colab_type": "code",
        "colab": {}
      },
      "cell_type": "code",
      "source": [
        "x_tensor_te = lang.preprocessing(x_te, lang_obj)\n",
        "y_tensor_te = tf.convert_to_tensor(np.transpose([y_te.flatten()]))"
      ],
      "execution_count": 0,
      "outputs": []
    },
    {
      "metadata": {
        "id": "-64CzzxpmYI4",
        "colab_type": "text"
      },
      "cell_type": "markdown",
      "source": [
        "## Construct the Model"
      ]
    },
    {
      "metadata": {
        "id": "IJ8lXQoFmbps",
        "colab_type": "text"
      },
      "cell_type": "markdown",
      "source": [
        "### initialize the models"
      ]
    },
    {
      "metadata": {
        "id": "5NouUX4blcjm",
        "colab_type": "code",
        "colab": {}
      },
      "cell_type": "code",
      "source": [
        "enc_f = nets.Encoder(vocab_size=vocab_size, reverse=False)\n",
        "enc_b = nets.Encoder(vocab_size=vocab_size, reverse=True)\n",
        "attention = nets.BidirectionalAttention(128)\n",
        "fcuk = nets.FullyConnectedUnits([64, 0.25, 'tanh', 64, 0.10, 'tanh', 32, 1])"
      ],
      "execution_count": 0,
      "outputs": []
    },
    {
      "metadata": {
        "id": "mJjkMKc9mkHq",
        "colab_type": "text"
      },
      "cell_type": "markdown",
      "source": [
        "### define flow *function*"
      ]
    },
    {
      "metadata": {
        "id": "LWb5oj2rmfrh",
        "colab_type": "code",
        "colab": {}
      },
      "cell_type": "code",
      "source": [
        "def flow(xs, models):\n",
        "    enc_f, enc_b, attention, fcuk = models\n",
        "    eo_f, h_f = enc_f(xs)\n",
        "    eo_b, h_b = enc_b(xs)\n",
        "    attention_weights = attention(eo_f, eo_b, h_f, h_b)\n",
        "    ys = fcuk(attention_weights)\n",
        "    return ys"
      ],
      "execution_count": 0,
      "outputs": []
    },
    {
      "metadata": {
        "id": "qMqNnOY_m1YO",
        "colab_type": "text"
      },
      "cell_type": "markdown",
      "source": [
        "### define the wrapper object"
      ]
    },
    {
      "metadata": {
        "id": "4yIVDLaErkec",
        "colab_type": "code",
        "colab": {}
      },
      "cell_type": "code",
      "source": [
        "black_box = box.Box(flow, [enc_f, enc_b, attention, fcuk], 10, 32)"
      ],
      "execution_count": 0,
      "outputs": []
    },
    {
      "metadata": {
        "id": "oQYovJQUmnQ_",
        "colab_type": "code",
        "outputId": "9c11afb2-9660-45b3-870a-5496a459ddd8",
        "colab": {
          "base_uri": "https://localhost:8080/",
          "height": 727
        }
      },
      "cell_type": "code",
      "source": [
        "black_box.train(x_tensor, y_tensor)"
      ],
      "execution_count": 9,
      "outputs": [
        {
          "output_type": "stream",
          "text": [
            "WARNING:tensorflow:From rumm/rumm/box.py:55: batch_and_drop_remainder (from tensorflow.contrib.data.python.ops.batching) is deprecated and will be removed in a future version.\n",
            "Instructions for updating:\n",
            "Use `tf.data.Dataset.batch(..., drop_remainder=True)`.\n",
            "epoch 0 batch 0 loss 10.182941436767578\n",
            "epoch 0 batch 10 loss 7.6392316818237305\n",
            "epoch 0 batch 20 loss 3.1571922302246094\n",
            "epoch 1 batch 0 loss 2.759777069091797\n",
            "epoch 1 batch 10 loss 2.6283769607543945\n",
            "epoch 1 batch 20 loss 2.321927547454834\n",
            "epoch 2 batch 0 loss 2.9561448097229004\n",
            "epoch 2 batch 10 loss 2.3873345851898193\n",
            "epoch 2 batch 20 loss 2.0815157890319824\n",
            "epoch 3 batch 0 loss 1.1519248485565186\n",
            "epoch 3 batch 10 loss 0.9959150552749634\n",
            "epoch 3 batch 20 loss 1.3482800722122192\n",
            "epoch 4 batch 0 loss 1.551339864730835\n",
            "epoch 4 batch 10 loss 0.6586763858795166\n",
            "epoch 4 batch 20 loss 0.8420453667640686\n",
            "epoch 5 batch 0 loss 1.2085270881652832\n",
            "epoch 5 batch 10 loss 0.5923511981964111\n",
            "epoch 5 batch 20 loss 0.6023183465003967\n",
            "epoch 6 batch 0 loss 0.6763511896133423\n",
            "epoch 6 batch 10 loss 0.8089189529418945\n",
            "epoch 6 batch 20 loss 0.3877115249633789\n",
            "epoch 7 batch 0 loss 0.5026690363883972\n",
            "epoch 7 batch 10 loss 0.3179457485675812\n",
            "epoch 7 batch 20 loss 0.7816518545150757\n",
            "epoch 8 batch 0 loss 0.5096643567085266\n",
            "epoch 8 batch 10 loss 0.3952733278274536\n",
            "epoch 8 batch 20 loss 0.2785491347312927\n",
            "epoch 9 batch 0 loss 0.46355581283569336\n",
            "epoch 9 batch 10 loss 0.4199819564819336\n",
            "epoch 9 batch 20 loss 0.5961344838142395\n"
          ],
          "name": "stdout"
        }
      ]
    },
    {
      "metadata": {
        "id": "r3AEBWTrN2cq",
        "colab_type": "code",
        "colab": {}
      },
      "cell_type": "code",
      "source": [
        "y_pred = black_box.predict(x_tensor_te)\n",
        "y_true = y_tensor_te.numpy().flatten()"
      ],
      "execution_count": 0,
      "outputs": []
    },
    {
      "metadata": {
        "id": "P0LT8_b9_Fzm",
        "colab_type": "code",
        "colab": {
          "base_uri": "https://localhost:8080/",
          "height": 403
        },
        "outputId": "6b06c0db-3eca-451c-b397-70b53a259453"
      },
      "cell_type": "code",
      "source": [
        "import matplotlib\n",
        "from matplotlib import pyplot as plt\n",
        "import scipy\n",
        "from scipy import stats\n",
        "slope, intercept, r_value, p_value, std_err = stats.linregress(y_true, y_pred)\n",
        "plt.figure()\n",
        "plt.plot(y_pred, y_true, '.')\n",
        "xs = np.linspace(y_true.min(), y_true.max(), 100)\n",
        "ys = slope * xs + intercept\n",
        "plt.plot(xs, ys, 'r-')\n",
        "plt.title('$r^2 = %s$' % np.square(r_value))"
      ],
      "execution_count": 15,
      "outputs": [
        {
          "output_type": "execute_result",
          "data": {
            "text/plain": [
              "Text(0.5,1,'$r^2 = 0.8441383920890317$')"
            ]
          },
          "metadata": {
            "tags": []
          },
          "execution_count": 15
        },
        {
          "output_type": "display_data",
          "data": {
            "image/png": "[encoded data removed]",
            "text/plain": [
              "<matplotlib.figure.Figure at 0x7f848c08aa20>"
            ]
          },
          "metadata": {
            "tags": []
          }
        }
      ]
    },
    {
      "metadata": {
        "id": "6vkIo1JoAdOi",
        "colab_type": "code",
        "colab": {}
      },
      "cell_type": "code",
      "source": [
        ""
      ],
      "execution_count": 0,
      "outputs": []
    }
  ]
}